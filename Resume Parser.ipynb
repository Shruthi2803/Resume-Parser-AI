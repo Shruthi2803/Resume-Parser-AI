{
 "cells": [
  {
   "cell_type": "code",
   "execution_count": 1,
   "id": "e13f0411",
   "metadata": {},
   "outputs": [],
   "source": [
    "import nltk"
   ]
  },
  {
   "cell_type": "code",
   "execution_count": 2,
   "id": "e2ac2a43",
   "metadata": {},
   "outputs": [],
   "source": [
    "def calculate_score(job_requirements, candidate_skills):\n",
    "    \n",
    "    match_count = sum(1 for word in job_requirements if word in candidate_skills)\n",
    "    return match_count"
   ]
  },
  {
   "cell_type": "code",
   "execution_count": 3,
   "id": "1859d44f",
   "metadata": {},
   "outputs": [],
   "source": [
    "def find_best_candidate(job_requirements, candidate_profiles):\n",
    "    best_candidate = None\n",
    "    best_score = 0\n",
    "\n",
    "    for candidate in candidate_profiles:\n",
    "        candidate_skills = candidate['skills']\n",
    "        candidate_experience = candidate['experience']\n",
    "        communication_skills = candidate['communication_skills']      \n",
    "        score = calculate_score(job_requirements, candidate_skills)\n",
    "        score += candidate_experience\n",
    "        if communication_skills == 'excellent':\n",
    "            score += 2\n",
    "        elif communication_skills == 'good':\n",
    "            score += 1\n",
    "        if score > best_score:\n",
    "            best_candidate = candidate\n",
    "            best_score = score\n",
    "    return best_candidate"
   ]
  },
  {
   "cell_type": "code",
   "execution_count": 4,
   "id": "a17b8f99",
   "metadata": {},
   "outputs": [],
   "source": [
    "def print_candidate(candidate):\n",
    "    if candidate:\n",
    "        print(\"Best candidate for the job:\")\n",
    "        print(f\"Name: {candidate['name']}\")\n",
    "        print(f\"Skills: {', '.join(candidate['skills'])}\")\n",
    "        print(f\"Experience: {candidate['experience']} years\")\n",
    "        print(f\"Communication Skills: {candidate['communication_skills']}\")\n",
    "    else:\n",
    "        print(\"No suitable candidates found.\")"
   ]
  },
  {
   "cell_type": "code",
   "execution_count": 5,
   "id": "53bec3b9",
   "metadata": {},
   "outputs": [],
   "source": [
    "def get_job_requirements():\n",
    "    job_requirements = []\n",
    "    while True:\n",
    "        requirement = input(\"Enter a job requirement (or 'done' to finish): \")\n",
    "        if requirement.lower() == 'done':\n",
    "            break\n",
    "        job_requirements.append(requirement.lower())\n",
    "    return job_requirements"
   ]
  },
  {
   "cell_type": "code",
   "execution_count": 6,
   "id": "529dec0d",
   "metadata": {},
   "outputs": [],
   "source": [
    "def main():\n",
    "    print(\"Enter the job requirements:\")\n",
    "    job_requirements = get_job_requirements()\n",
    "    candidate_profiles = [\n",
    "        {\n",
    "            'name': 'Padmavatahi',\n",
    "            'skills': ['GUI using Pyqt module', 'data handling', 'java'],\n",
    "            'experience': 1,\n",
    "            'communication_skills': 'excellent'\n",
    "        },\n",
    "        {\n",
    "            'name': 'Kranthi',\n",
    "            'skills': ['python', 'machine learning', 'data visualization','java'],\n",
    "            'experience': 5,\n",
    "            'communication_skills': 'good'\n",
    "        },\n",
    "        {\n",
    "            'name': 'Sowjanya',\n",
    "            'skills': ['C++', 'machine learning', 'communication skills'],\n",
    "            'experience': 2,\n",
    "            'communication_skills': 'excellent'\n",
    "        },\n",
    "        {\n",
    "            'name': 'Anirudh',\n",
    "            'skills': ['Html', 'deep learning', 'communication skills'],\n",
    "            'experience': 4,\n",
    "            'communication_skills': 'better'\n",
    "        },\n",
    "        {\n",
    "            'name': 'Abhiram',\n",
    "            'skills': ['python', 'data visualization', 'communication skills','java'],\n",
    "            'experience': 6,\n",
    "            'communication_skills': 'better'\n",
    "        },\n",
    "         {\n",
    "            'name': 'Navaneetha',\n",
    "            'skills': ['SQL', 'data handling', 'Html','java'],\n",
    "            'experience': 5,\n",
    "            'communication_skills': 'good'\n",
    "        },\n",
    "         {\n",
    "            'name': 'Shruthi kanike',\n",
    "            'skills': ['python', 'data visualization', 'communication skills','deep learning'],\n",
    "            'experience': 5,\n",
    "            'communication_skills': 'excellent'\n",
    "        },\n",
    "         {\n",
    "            'name': 'Purushotham',\n",
    "            'skills': ['GUI using Pyqt module', 'data analysis', 'communication skills','C'],\n",
    "            'experience': 3,\n",
    "            'communication_skills': 'better'\n",
    "        },\n",
    "         {\n",
    "            'name': 'Swapna',\n",
    "            'skills': ['python', 'data analysis', 'C','C++'],\n",
    "            'experience': 6,\n",
    "            'communication_skills': 'good'\n",
    "        },\n",
    "         {\n",
    "            'name': 'Narendar',\n",
    "            'skills': ['Html', 'data analysis', 'communication skills','C++'],\n",
    "            'experience': 2,\n",
    "            'communication_skills': 'better'\n",
    "        }\n",
    "        \n",
    "    ]\n",
    "    best_candidate = find_best_candidate(job_requirements, candidate_profiles)\n",
    "    print_candidate(best_candidate)"
   ]
  },
  {
   "cell_type": "code",
   "execution_count": 7,
   "id": "ade0d3a9",
   "metadata": {},
   "outputs": [
    {
     "name": "stdout",
     "output_type": "stream",
     "text": [
      "Enter the job requirements:\n",
      "Enter a job requirement (or 'done' to finish): c++\n",
      "Enter a job requirement (or 'done' to finish): c\n",
      "Enter a job requirement (or 'done' to finish): python\n",
      "Enter a job requirement (or 'done' to finish): done\n",
      "Best candidate for the job:\n",
      "Name: Shruthi kanike\n",
      "Skills: python, data visualization, communication skills, deep learning\n",
      "Experience: 5 years\n",
      "Communication Skills: excellent\n"
     ]
    }
   ],
   "source": [
    "if __name__ == \"__main__\":\n",
    "    main()"
   ]
  }
 ],
 "metadata": {
  "kernelspec": {
   "display_name": "Python 3 (ipykernel)",
   "language": "python",
   "name": "python3"
  },
  "language_info": {
   "codemirror_mode": {
    "name": "ipython",
    "version": 3
   },
   "file_extension": ".py",
   "mimetype": "text/x-python",
   "name": "python",
   "nbconvert_exporter": "python",
   "pygments_lexer": "ipython3",
   "version": "3.11.3"
  }
 },
 "nbformat": 4,
 "nbformat_minor": 5
}
